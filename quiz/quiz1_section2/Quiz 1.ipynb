{
 "cells": [
  {
   "attachments": {},
   "cell_type": "markdown",
   "metadata": {},
   "source": [
    "# <span style=\"color:red\"> QTM 151 - Quiz 1 </span>"
   ]
  },
  {
   "attachments": {},
   "cell_type": "markdown",
   "metadata": {},
   "source": [
    "## Submit as an HTML file\n",
    "## Quiz is open 1:00pm to 1:50pm"
   ]
  },
  {
   "attachments": {},
   "cell_type": "markdown",
   "metadata": {},
   "source": [
    "<font size=\"5\"> \n",
    "\n",
    "Print your name below"
   ]
  },
  {
   "cell_type": "code",
   "execution_count": 2,
   "metadata": {},
   "outputs": [
    {
     "name": "stdout",
     "output_type": "stream",
     "text": [
      "Emily Chen\n"
     ]
    }
   ],
   "source": [
    "# Write your answer here\n",
    "\n",
    "print(\"Emily Chen\")"
   ]
  },
  {
   "attachments": {},
   "cell_type": "markdown",
   "metadata": {},
   "source": [
    "<font size = \"5\" >\n",
    "This quiz is open book \n",
    "\n",
    "- You can use the lecture notes\n",
    "- You will get partial credit for attempting the questions\n",
    "- To get full credit, the code should work as intended\n",
    "- You should <span style=\"color:red\"> NOT </span> communicate with other students\n",
    "\n",
    "Print the following message: <br>\n",
    "\n",
    "\"I will abide by Emory's code of conduct\"\n"
   ]
  },
  {
   "cell_type": "code",
   "execution_count": 3,
   "metadata": {},
   "outputs": [
    {
     "name": "stdout",
     "output_type": "stream",
     "text": [
      "I will abide by Emory's code of conduct\n"
     ]
    }
   ],
   "source": [
    "# Write your answer here:\n",
    "print(\"I will abide by Emory's code of conduct\")\n"
   ]
  },
  {
   "attachments": {},
   "cell_type": "markdown",
   "metadata": {},
   "source": [
    "<font size = \"5\">\n",
    "\n",
    "Import the libraries \"numpy\", \"matplotlib.pyplot\", and \"pandas\""
   ]
  },
  {
   "cell_type": "code",
   "execution_count": 38,
   "metadata": {},
   "outputs": [],
   "source": [
    "import numpy as np \n",
    "import matplotlib.pyplot as plt \n",
    "import pandas as pd\n"
   ]
  },
  {
   "cell_type": "markdown",
   "metadata": {},
   "source": [
    "<font size = \"5\">\n",
    "\n",
    "1. IF/ELIF/ELSE statements\n",
    "\n",
    "<font size = \"3\">\n",
    "\n",
    "- In the beginning of the code cell below, two lists are created, where element 0 is one of two random choices: \n",
    "```python\n",
    "list_p = [\"Introduction\"/\"Intro\", \"to\", \"Python\"]\n",
    "list_r = [\"Introduction\"/\"Intro\", \"to\", \"R\"]\n",
    "```\n",
    "\n",
    "- Create a new variable ``` keyword = \"Introduction\" ```\n",
    "- Create an if/elif/else block that tests whether ``` keyword ``` is part of either <br>\n",
    "list.  Depending on the outcome (belongs to list_p, belongs to list_r, doesn't belong to either list) print an appropriate message to the screen.\n",
    "\n",
    "HINT: If the creation of list_p and list_r is confusing, add print statements to view the two lists and run the cell 3-4 times to see some of the possible situations\n",
    "\n",
    "\n"
   ]
  },
  {
   "cell_type": "code",
   "execution_count": 24,
   "metadata": {},
   "outputs": [
    {
     "name": "stdout",
     "output_type": "stream",
     "text": [
      "['Intro', 'to', 'Python']\n",
      "['Intro', 'to', 'R']\n",
      "keyward is not part of either list\n"
     ]
    }
   ],
   "source": [
    "### create lists DO NOT CHANGE\n",
    "str_choices = [[\"Introduction\", \"Intro\"], [\"Intro\", \"Introduction\"], [\"Intro\", \"Intro\"]]\n",
    "str_indices = np.random.choice([0, 1, 2])\n",
    "start_str = str_choices[str_indices]\n",
    "\n",
    "list_p = [start_str[0], \"to\", \"Python\"]\n",
    "list_r = [start_str[1], \"to\", \"R\"]\n",
    "\n",
    "### Your solution below\n",
    "print(list_p)\n",
    "print(list_r)\n",
    "keyword = \"Introduction\"\n",
    "\n",
    "\n",
    "if keyword in list_p and keyword in list_r:\n",
    "    print(\"keyword is part of both lists\")\n",
    "elif keyword in list_p and keyword not in list_r:\n",
    "    print(\"keyword is part of list_p only\")\n",
    "elif keyword in list_r and keyword not in list_p:\n",
    "    print(\"keyword is part of list_r only\")\n",
    "else: \n",
    "    print(\"keyward is not part of either list\")\n",
    "\n",
    "\n"
   ]
  },
  {
   "attachments": {},
   "cell_type": "markdown",
   "metadata": {},
   "source": [
    "<font size = \"5\">\n",
    "\n",
    "2. Generate a vector of values and plot it\n",
    "\n",
    "<font size = \"3\">\n",
    "\n",
    "- Below, two lists are defined containing values of $x_k$ and $y_k$\n",
    "\n",
    "```python\n",
    "    coord_x = [1,4, 0, -1, 20, 40]\n",
    "    coord_y = [2,2, 0, 10, 0, 1]\n",
    "```\n",
    "\n",
    "- Create a vector (**vector always means numpy array**) ```hypotenuse_sqr``` with elements $h_k$ defined by the formula\n",
    "\n",
    "$\\qquad h_k = x_k^2 + y_k^2$\n",
    "\n",
    "- You **should not** define it manually: so \"hypoteneuse_sqr = np.array([5, 20, 0, 101, 400, 1601])\" is not an acceptable answer\n",
    "\n",
    "- Produce a **histogram** with the elements of ```hypotenuse_sqr``` on the horizontal axis\n",
    "- Label the axes and the title\n",
    "- Change the color to \"orange\", \"green\" or \"purple\" (you choose)\n",
    "- Make sure the plot appears in an output cell\n",
    "\n",
    "Hint: Most mathematical operations are defined for Numpy arrays, which allows you to avoid loops\n",
    "\n",
    "Hint: type \"help(plt.hist)\" to see which argument is used to change color"
   ]
  },
  {
   "cell_type": "code",
   "execution_count": 25,
   "metadata": {},
   "outputs": [
    {
     "data": {
      "text/plain": [
       "Text(0.5, 1.0, 'Historgram of Hypotenuse Squared')"
      ]
     },
     "execution_count": 25,
     "metadata": {},
     "output_type": "execute_result"
    },
    {
     "data": {
      "image/png": "[encoded data removed]",
      "text/plain": [
       "<Figure size 640x480 with 1 Axes>"
      ]
     },
     "metadata": {},
     "output_type": "display_data"
    }
   ],
   "source": [
    "coord_x = [1,4, 0, -1, 20, 40]\n",
    "coord_y = [2,2, 0, 10, 0, 1]\n",
    "\n",
    "### Your solution below\n",
    "hypotenuse_sqr = [(x**2 + y**2) for x, y in zip(coord_x, coord_y)]\n",
    "# print(hypotenuse_sqr)\n",
    "plt.hist(x = hypotenuse_sqr, color = \"orange\")\n",
    "plt.xlabel(\"Hypotenuse Squared\")\n",
    "plt.ylabel(\"Frequency\")\n",
    "plt.title(\"Historgram of Hypotenuse Squared\")\n",
    "\n",
    "\n"
   ]
  },
  {
   "attachments": {},
   "cell_type": "markdown",
   "metadata": {},
   "source": [
    "<font size = \"5\">\n",
    "\n",
    "3. Histograms of random variables\n",
    "\n",
    "<font size = \"3\">\n",
    "\n",
    "- Let $n = 500$\n",
    "- Generate \"vec_x\" from a normal distribution with (loc = 0,scale = 1,size = n)\n",
    "- Generate \"vex_z\" from a normal distribution with (loc = 5,scale = 1,size = n)\n",
    "- Plot two **histograms** on a single row using the ```plt.subplots``` syntax\n",
    "    - Label the axes and title\n",
    "    - Each graph should have its axes labeled, and should have their own title\n",
    " \n",
    "Hint: If you can't remember how subplots works, generate two individual plots for partial credit"
   ]
  },
  {
   "cell_type": "code",
   "execution_count": 26,
   "metadata": {},
   "outputs": [
    {
     "data": {
      "text/plain": [
       "Text(0, 0.5, 'Frequency')"
      ]
     },
     "execution_count": 26,
     "metadata": {},
     "output_type": "execute_result"
    },
    {
     "data": {
      "image/png": "[encoded data removed]",
      "text/plain": [
       "<Figure size 600x300 with 2 Axes>"
      ]
     },
     "metadata": {},
     "output_type": "display_data"
    }
   ],
   "source": [
    "n = 500\n",
    "\n",
    "### Your solution below:\n",
    "vec_x = np.random.normal(loc = 0, scale = 1, size = n)\n",
    "vec_z = np.random.normal(loc = 5, scale = 1, size = n)\n",
    "\n",
    "fig, subfig_array = plt.subplots(nrows = 1, ncols = 2,figsize = (6,3))\n",
    "subfig_array[0].hist(vec_x)\n",
    "subfig_array[0].set_title(\"Hisogram of x\")\n",
    "subfig_array[0].set_xlabel(\"Value of x\")\n",
    "subfig_array[0].set_ylabel(\"Frequency\")\n",
    "\n",
    "subfig_array[1].hist(vec_z)\n",
    "subfig_array[1].set_title(\"Hisogram of z\")\n",
    "subfig_array[1].set_xlabel(\"Value of z\")\n",
    "subfig_array[1].set_ylabel(\"Frequency\")\n",
    "\n"
   ]
  },
  {
   "cell_type": "markdown",
   "metadata": {},
   "source": [
    "<font size = \"5\">\n",
    "\n",
    "4. Combine information across datasets\n",
    "\n",
    "<font size = \"3\">\n",
    "\n",
    "- Read the dataset \"/data_quiz_1/germany_co2_emissions.csv\" and store it as \"data_germany\"\n",
    "- View the dataset, and see what variables it contains\n",
    "- Create a **scatter plot** of CO2 emissions with the following characteristics\n",
    "    - The yearly variable on the x-axis.\n",
    "    - Germany's CO2 emissions on the y-axis.\n",
    "    - Label the axes\n"
   ]
  },
  {
   "cell_type": "code",
   "execution_count": 52,
   "metadata": {},
   "outputs": [
    {
     "name": "stdout",
     "output_type": "stream",
     "text": [
      "    year  total_emissions\n",
      "0   1990    955310.000000\n",
      "1   1991    932550.000000\n",
      "2   1992    892820.000000\n",
      "3   1993    887060.000000\n",
      "4   1994    875900.000000\n",
      "5   1995    874660.000000\n",
      "6   1996    904340.000000\n",
      "7   1997    872650.000000\n",
      "8   1998    865250.000000\n",
      "9   1999    833590.000000\n",
      "10  2000    830280.000000\n",
      "11  2001    847680.000000\n",
      "12  2002    833380.004883\n",
      "13  2003    836789.978027\n",
      "14  2004    821070.007324\n",
      "15  2005    802380.004883\n",
      "16  2006    814409.973145\n",
      "17  2007    783799.987793\n",
      "18  2008    789690.002441\n",
      "19  2009    734809.997559\n",
      "20  2010    773070.007324\n",
      "21  2011    746479.980469\n",
      "22  2012    760130.004883\n",
      "23  2013    776150.024414\n",
      "24  2014    736010.009766\n",
      "25  2015    742309.997559\n",
      "26  2016    747150.024414\n",
      "27  2017    732200.012207\n",
      "28  2018    707700.012207\n",
      "29  2019    657400.024414\n"
     ]
    },
    {
     "data": {
      "image/png": "[encoded data removed]",
      "text/plain": [
       "<Figure size 640x480 with 1 Axes>"
      ]
     },
     "metadata": {},
     "output_type": "display_data"
    }
   ],
   "source": [
    "### Your solution below:\n",
    "data_germany = pd.read_csv('data_quiz_1/germany_co2_emissions.csv')\n",
    "print(data_germany) # it contains year and total emissions columns\n",
    "\n",
    "plt.scatter(data_germany[\"year\"], data_germany[\"total_emissions\"])\n",
    "plt.xlabel(\"Year\")\n",
    "plt.ylabel(\"CO2 Emissions\")\n",
    "plt.title(\"Annual CO2 Emissions in Germany (1990-2019)\")\n",
    "plt.show()\n"
   ]
  },
  {
   "attachments": {},
   "cell_type": "markdown",
   "metadata": {},
   "source": [
    "<font size = \"5\">\n",
    "\n",
    "5. Loop through dfferent variables and plot\n",
    "\n",
    "\n",
    "<font size = \"3\">\n",
    "\n",
    "- Read the dataset \"data_quiz_1/wdi_ageprop_2020.csv\"\n",
    "- Create a list of variable names with the following elements:\n",
    "\n",
    "```python\n",
    "    list_varnames = [\"percent_ages0to14\",\"percent_ages15to64\"]\n",
    "```\n",
    "\n",
    "- Run a for loop that computes the mean for each variable and print it on screen.\n",
    "\n",
    "Hint: Computing the mean of a column/variable from a Pandas dataset is just like computing the mean of a Numpy array\n"
   ]
  },
  {
   "cell_type": "code",
   "execution_count": 46,
   "metadata": {},
   "outputs": [
    {
     "name": "stdout",
     "output_type": "stream",
     "text": [
      "The mean of percent_ages0to14 is 26.90657125728302\n",
      "The mean of percent_ages15to64 is 63.68465159973585\n"
     ]
    }
   ],
   "source": [
    "### Your solution below:\n",
    "\n",
    "data = pd.read_csv('data_quiz_1/wdi_ageprop_2020.csv')\n",
    "# print(data)\n",
    "list_varnames = [\"percent_ages0to14\", \"percent_ages15to64\"]\n",
    "\n",
    "for var in list_varnames:\n",
    "    if var in data.columns:\n",
    "        mean_val = data[var].mean()\n",
    "    print(f\"The mean of {var} is {mean_val}\")\n",
    "    \n",
    "    \n",
    "\n",
    "\n",
    "    \n",
    "    \n"
   ]
  },
  {
   "cell_type": "markdown",
   "metadata": {},
   "source": [
    "<font size = \"5\">\n",
    "\n",
    "6. Run loop through different datasets and compute statistics\n",
    "\n",
    "<font size = \"3\">\n",
    "\n",
    "- Create a list with the \".csv\" dataset names of two countries of your choice. For example\n",
    "\n",
    "```python\n",
    "    [\"data_quiz_1/name1.csv\",\"data_quiz_1/name2.csv\"] \n",
    "```\n",
    "\n",
    "- Create an empty list called ``` list_emissions ```\n",
    "\n",
    "- Run a for-loop over the list of dataset names. Inside the loop:\n",
    "    - Read the corresponding \".csv\" dataset.\n",
    "    - Compute the mean of \"total_emissions\" for each respective country, <br>\n",
    "    and store it as an element of ```list_emissions```\n",
    "\n",
    "- After the loop, print ```list_emissions```\n",
    "\n",
    "HINT: Use ```.append()``` (See Lecture 5-supplement or Lecture 7)\n"
   ]
  },
  {
   "cell_type": "code",
   "execution_count": null,
   "metadata": {},
   "outputs": [
    {
     "name": "stdout",
     "output_type": "stream",
     "text": [
      "[np.float64(954347.021200521), np.float64(287606.4942740235)]\n"
     ]
    }
   ],
   "source": [
    "### Your solution below:\n",
    "## Create a list with the \".csv\" dataset names of two countries of your choice. For example\n",
    "list_data =[\"data_quiz_1/japan_co2_emissions.csv\",\"data_quiz_1/korea_rep_co2_emissions.csv\"] \n",
    "\n",
    "\n",
    "## Create an empty list called ``` list_emissions ```\n",
    "list_emissions = []\n",
    "## Run a for-loop over the list of dataset names. Inside the loop:\n",
    "   ## Read the corresponding \".csv\" dataset.\n",
    "    #  Compute the mean of \"total_emissions\" for each respective country, <br>\n",
    "    # store it as an element of ```list_emissions```\n",
    "for file in list_data:\n",
    "    data_country = pd.read_csv(file)\n",
    "    mean_emission = data_country['total_emissions'].mean()\n",
    "    list_emissions.append(mean_emission)\n",
    "\n",
    "# After the loop, print list_emissions\n",
    "print(list_emissions)\n",
    "\n",
    "\n"
   ]
  }
 ],
 "metadata": {
  "kernelspec": {
   "display_name": "base",
   "language": "python",
   "name": "python3"
  },
  "language_info": {
   "codemirror_mode": {
    "name": "ipython",
    "version": 3
   },
   "file_extension": ".py",
   "mimetype": "text/x-python",
   "name": "python",
   "nbconvert_exporter": "python",
   "pygments_lexer": "ipython3",
   "version": "3.13.5"
  },
  "orig_nbformat": 4
 },
 "nbformat": 4,
 "nbformat_minor": 2
}
